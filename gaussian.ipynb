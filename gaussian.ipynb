{
 "cells": [
  {
   "cell_type": "markdown",
   "metadata": {},
   "source": [
    "### Gaussian Process"
   ]
  },
  {
   "cell_type": "markdown",
   "metadata": {},
   "source": [
    "(a)     \n",
    "Read the training and test csv datasets"
   ]
  },
  {
   "cell_type": "code",
   "execution_count": 4,
   "metadata": {
    "collapsed": true
   },
   "outputs": [],
   "source": [
    "from numpy import genfromtxt\n",
    "import numpy as np\n",
    "X_Train = genfromtxt('X_train.csv', delimiter=',')\n",
    "Y_Train = genfromtxt('Y_train.csv', delimiter=',')\n",
    "X_Test = genfromtxt('X_test.csv', delimiter=',')\n",
    "Y_Test = genfromtxt('Y_test.csv', delimiter=',')"
   ]
  },
  {
   "cell_type": "markdown",
   "metadata": {},
   "source": [
    "Defining Kernel Function"
   ]
  },
  {
   "cell_type": "code",
   "execution_count": 5,
   "metadata": {
    "collapsed": true
   },
   "outputs": [],
   "source": [
    "def kernel(x1, x2, b):\n",
    "    return np.exp( (-1 / b) * (np.linalg.norm(x1-x2,2)**2))\n",
    "\n",
    "#     return np.exp( (-1 / b) * np.sum( (x1 - x2)**2 ))\n"
   ]
  },
  {
   "cell_type": "markdown",
   "metadata": {},
   "source": [
    "Training the data set"
   ]
  },
  {
   "cell_type": "code",
   "execution_count": 6,
   "metadata": {
    "collapsed": false
   },
   "outputs": [],
   "source": [
    "from numpy.linalg import inv\n",
    "mean=[]\n",
    "var=[]\n",
    "def gaussian(b,sig):    \n",
    "    K2=np.zeros(shape=(len(X_Train),len(X_Train)))\n",
    "    for i in range(len(X_Train)):\n",
    "        for j in range(len(X_Train)):\n",
    "            K2[i][j]=(kernel(X_Train[i],X_Train[j],b))\n",
    "           \n",
    "    K1=np.zeros(shape=(len(X_Test),len(X_Train)))\n",
    "    for i in range(len(X_Test)):\n",
    "        for j in range(len(X_Train)):\n",
    "            K1[i][j]=kernel(X_Test[i],X_Train[j],b)\n",
    "#     K1=kernel(X_Test[i],X_Train,1)\n",
    "#     K3=kernel(X_Test[i],X_Test[i],1)\n",
    "#     mean=K1*K2_inv*Y_Train[i]\n",
    "    mu=np.dot(np.dot(K1,np.linalg.inv(np.add(sig*np.eye(350),K2))),Y_Train)\n",
    "    return mu\n",
    "# mu=np.dot(np.dot(K1*np.linalg.inv(1+K2_inv)),Y_Train)\n",
    "# #     mean=K2_inv.dot(K1.T).T.dot(Y_Train[i])\n",
    "#     var=1+K3-(K1*K2_inv*np.transpose(K3))\n",
    "# #     var=1+K3-K1.dot(K2_inv.dot(K1.T))\n",
    "# print(mean.shape)\n",
    "# print(var.shape)\n",
    "#     mu.shape\n",
    "#     print(mu)\n",
    "# print(X_Test[0].shape)\n",
    "# print(X_Train[0].shape)"
   ]
  },
  {
   "cell_type": "code",
   "execution_count": 7,
   "metadata": {
    "collapsed": false,
    "scrolled": true
   },
   "outputs": [
    {
     "name": "stdout",
     "output_type": "stream",
     "text": [
      "0\n",
      "0\n",
      "0\n",
      "0\n",
      "0\n",
      "0\n",
      "0\n",
      "0\n",
      "0\n",
      "0\n",
      "1\n",
      "1\n",
      "1\n",
      "1\n",
      "1\n",
      "1\n",
      "1\n",
      "1\n",
      "1\n",
      "1\n",
      "2\n",
      "2\n",
      "2\n",
      "2\n",
      "2\n",
      "2\n",
      "2\n",
      "2\n",
      "2\n",
      "2\n",
      "3\n",
      "3\n",
      "3\n",
      "3\n",
      "3\n",
      "3\n",
      "3\n",
      "3\n",
      "3\n",
      "3\n",
      "4\n",
      "4\n",
      "4\n",
      "4\n",
      "4\n",
      "4\n",
      "4\n",
      "4\n",
      "4\n",
      "4\n",
      "5\n",
      "5\n",
      "5\n",
      "5\n",
      "5\n",
      "5\n",
      "5\n",
      "5\n",
      "5\n",
      "5\n"
     ]
    }
   ],
   "source": [
    "b=[5,7,9,11,13,15]\n",
    "# a=['b=5','b=7','b=9','b=11','b=13','b=15']\n",
    "# c=['sig=.1','.2','sig=.3','sig=.4','sig=.5','sig=.6','sig=.7','sig=.8','sig=.9','sig=1']\n",
    "sig=[.1,.2,.3,.4,.5,.6,.7,.8,.9,1]\n",
    "rmse=[]\n",
    "import pandas as pd\n",
    "df=pd.DataFrame(index=b, columns=sig)\n",
    "for i in range(len(b)):\n",
    "    for j in range(len(sig)):\n",
    "#         print(b[i])\n",
    "#         print(sig[j])\n",
    "        y=gaussian(b[i],sig[j])\n",
    "        print(i)\n",
    "        val=(Y_Test-y)*(Y_Test-y)\n",
    "        val2=np.sqrt(sum(val)/42.0)\n",
    "#         rmse.append(val2)\n",
    "        df.ix[b[i], sig[j]] = val2\n",
    "# rmse"
   ]
  },
  {
   "cell_type": "markdown",
   "metadata": {},
   "source": [
    "##### (b)  RMSE on 42 Test Points for for 60 total pairs (b,σ2) , b ∈ {5,7,9,11,13,15} and σ2 ∈ {.1,.2,.3,.4,.5,.6,.7,.8,.9,1}"
   ]
  },
  {
   "cell_type": "code",
   "execution_count": 8,
   "metadata": {
    "collapsed": false
   },
   "outputs": [
    {
     "data": {
      "text/html": [
       "<div>\n",
       "<table border=\"1\" class=\"dataframe\">\n",
       "  <thead>\n",
       "    <tr style=\"text-align: right;\">\n",
       "      <th></th>\n",
       "      <th>0.1</th>\n",
       "      <th>0.2</th>\n",
       "      <th>0.3</th>\n",
       "      <th>0.4</th>\n",
       "      <th>0.5</th>\n",
       "      <th>0.6</th>\n",
       "      <th>0.7</th>\n",
       "      <th>0.8</th>\n",
       "      <th>0.9</th>\n",
       "      <th>1.0</th>\n",
       "    </tr>\n",
       "  </thead>\n",
       "  <tbody>\n",
       "    <tr>\n",
       "      <th>5</th>\n",
       "      <td>1.96628</td>\n",
       "      <td>1.93314</td>\n",
       "      <td>1.92342</td>\n",
       "      <td>1.9222</td>\n",
       "      <td>1.92477</td>\n",
       "      <td>1.92921</td>\n",
       "      <td>1.93463</td>\n",
       "      <td>1.94058</td>\n",
       "      <td>1.94682</td>\n",
       "      <td>1.95321</td>\n",
       "    </tr>\n",
       "    <tr>\n",
       "      <th>7</th>\n",
       "      <td>1.92016</td>\n",
       "      <td>1.90488</td>\n",
       "      <td>1.90808</td>\n",
       "      <td>1.9159</td>\n",
       "      <td>1.9248</td>\n",
       "      <td>1.9337</td>\n",
       "      <td>1.94225</td>\n",
       "      <td>1.95038</td>\n",
       "      <td>1.95809</td>\n",
       "      <td>1.96544</td>\n",
       "    </tr>\n",
       "    <tr>\n",
       "      <th>9</th>\n",
       "      <td>1.89765</td>\n",
       "      <td>1.90252</td>\n",
       "      <td>1.91765</td>\n",
       "      <td>1.93251</td>\n",
       "      <td>1.9457</td>\n",
       "      <td>1.95723</td>\n",
       "      <td>1.9674</td>\n",
       "      <td>1.97649</td>\n",
       "      <td>1.98474</td>\n",
       "      <td>1.99234</td>\n",
       "    </tr>\n",
       "    <tr>\n",
       "      <th>11</th>\n",
       "      <td>1.89051</td>\n",
       "      <td>1.91498</td>\n",
       "      <td>1.93885</td>\n",
       "      <td>1.95794</td>\n",
       "      <td>1.97322</td>\n",
       "      <td>1.98576</td>\n",
       "      <td>1.99638</td>\n",
       "      <td>2.0056</td>\n",
       "      <td>2.01384</td>\n",
       "      <td>2.02134</td>\n",
       "    </tr>\n",
       "    <tr>\n",
       "      <th>13</th>\n",
       "      <td>1.89585</td>\n",
       "      <td>1.93559</td>\n",
       "      <td>1.9646</td>\n",
       "      <td>1.9855</td>\n",
       "      <td>2.00131</td>\n",
       "      <td>2.01388</td>\n",
       "      <td>2.02431</td>\n",
       "      <td>2.03331</td>\n",
       "      <td>2.04132</td>\n",
       "      <td>2.04864</td>\n",
       "    </tr>\n",
       "    <tr>\n",
       "      <th>15</th>\n",
       "      <td>1.9096</td>\n",
       "      <td>1.95955</td>\n",
       "      <td>1.9908</td>\n",
       "      <td>2.01192</td>\n",
       "      <td>2.02737</td>\n",
       "      <td>2.03947</td>\n",
       "      <td>2.04946</td>\n",
       "      <td>2.0581</td>\n",
       "      <td>2.06585</td>\n",
       "      <td>2.07298</td>\n",
       "    </tr>\n",
       "  </tbody>\n",
       "</table>\n",
       "</div>"
      ],
      "text/plain": [
       "        0.1      0.2      0.3      0.4      0.5      0.6      0.7      0.8  \\\n",
       "5   1.96628  1.93314  1.92342   1.9222  1.92477  1.92921  1.93463  1.94058   \n",
       "7   1.92016  1.90488  1.90808   1.9159   1.9248   1.9337  1.94225  1.95038   \n",
       "9   1.89765  1.90252  1.91765  1.93251   1.9457  1.95723   1.9674  1.97649   \n",
       "11  1.89051  1.91498  1.93885  1.95794  1.97322  1.98576  1.99638   2.0056   \n",
       "13  1.89585  1.93559   1.9646   1.9855  2.00131  2.01388  2.02431  2.03331   \n",
       "15   1.9096  1.95955   1.9908  2.01192  2.02737  2.03947  2.04946   2.0581   \n",
       "\n",
       "        0.9      1.0  \n",
       "5   1.94682  1.95321  \n",
       "7   1.95809  1.96544  \n",
       "9   1.98474  1.99234  \n",
       "11  2.01384  2.02134  \n",
       "13  2.04132  2.04864  \n",
       "15  2.06585  2.07298  "
      ]
     },
     "execution_count": 8,
     "metadata": {},
     "output_type": "execute_result"
    }
   ],
   "source": [
    "df"
   ]
  },
  {
   "cell_type": "markdown",
   "metadata": {},
   "source": [
    "(d)"
   ]
  },
  {
   "cell_type": "code",
   "execution_count": 9,
   "metadata": {
    "collapsed": false
   },
   "outputs": [],
   "source": [
    "mu_te=[] \n",
    "Xtr=X_Train[:,3]\n",
    "Xte=X_Test[:,3]\n",
    "K2n=np.zeros(shape=(len(Xtr),len(Xtr)))\n",
    "for i in range(len(Xtr)):\n",
    "    for j in range(len(Xtr)):\n",
    "        K2n[i][j]=np.exp( (-1 / 5) * (np.linalg.norm(Xtr[i]-Xtr[j])**2))\n",
    "#         K2n[i][j]=(kernel(Xtr[i],Xtr[j],5))\n",
    "           \n",
    "K1n=np.zeros(shape=(len(Xte),len(Xtr)))\n",
    "for i in range(len(Xte)):\n",
    "    for j in range(len(Xtr)):\n",
    "        K1n[i][j]=np.exp( (-1 / 5) * (np.linalg.norm(Xte[i]-Xtr[j])**2))\n",
    "mu_te=np.dot(np.dot(K1n,np.linalg.inv(np.add(2*np.eye(350),K2n))),Y_Train)"
   ]
  },
  {
   "cell_type": "code",
   "execution_count": 10,
   "metadata": {
    "collapsed": true
   },
   "outputs": [],
   "source": [
    "mu_tr=[]\n",
    "K1nt=np.zeros(shape=(len(Xtr),len(Xtr)))\n",
    "for i in range(len(Xtr)):\n",
    "    for j in range(len(Xtr)):\n",
    "        K1nt[i][j]=np.exp( (-1 / 5) * (np.linalg.norm(Xtr[i]-Xtr[j])**2))\n",
    "mu_tr=np.dot(np.dot(K1nt,np.linalg.inv(np.add(2*np.eye(350),K2n))),Y_Train)"
   ]
  },
  {
   "cell_type": "code",
   "execution_count": 11,
   "metadata": {
    "collapsed": false
   },
   "outputs": [],
   "source": [
    "import itertools\n",
    "Xtr1, Y_Train1 = zip(*sorted(zip(Xtr, Y_Train)))\n",
    "Xtr1, mu_tr1 = zip(*sorted(zip(Xtr, mu_tr)))"
   ]
  },
  {
   "cell_type": "markdown",
   "metadata": {},
   "source": [
    "##### Scatter plot of the data (x[4] versus y for each point). Solid line:  the predictive mean of the Gaussian process at each point in the training set. \n"
   ]
  },
  {
   "cell_type": "code",
   "execution_count": 12,
   "metadata": {
    "collapsed": false
   },
   "outputs": [
    {
     "data": {
      "image/png": "[encoded data removed]",
      "text/plain": [
       "<matplotlib.figure.Figure at 0x1166cff60>"
      ]
     },
     "metadata": {},
     "output_type": "display_data"
    }
   ],
   "source": [
    "import matplotlib.pyplot as plt\n",
    "plt.plot(Xtr1, Y_Train1,'.',color='r',label=\"scatter plot of x[4] vs y\")\n",
    "plt.plot(Xtr1, mu_tr1,label=\"Predictive mean\")\n",
    "plt.xlabel(\"x[4] --->\")\n",
    "plt.ylabel(\"y -->\")\n",
    "# plt.title(\"Training set\")\n",
    "plt.legend(bbox_to_anchor=(0., 1.02, 1., .102), loc=3,\n",
    "           ncol=2, mode=\"expand\", borderaxespad=0.)\n",
    "plt.show()"
   ]
  }
 ],
 "metadata": {
  "anaconda-cloud": {},
  "kernelspec": {
   "display_name": "Python [default]",
   "language": "python",
   "name": "python3"
  },
  "language_info": {
   "codemirror_mode": {
    "name": "ipython",
    "version": 3
   },
   "file_extension": ".py",
   "mimetype": "text/x-python",
   "name": "python",
   "nbconvert_exporter": "python",
   "pygments_lexer": "ipython3",
   "version": "3.5.2"
  }
 },
 "nbformat": 4,
 "nbformat_minor": 1
}
